{
 "cells": [
  {
   "cell_type": "markdown",
   "metadata": {},
   "source": [
    "# PSO (Particle Swarm Optimization)"
   ]
  },
  {
   "cell_type": "markdown",
   "metadata": {},
   "source": [
    "## Sumber"
   ]
  },
  {
   "cell_type": "markdown",
   "metadata": {},
   "source": [
    "https://github.com/ljvmiranda921/pyswarms\n",
    "\n",
    "https://medium.com/analytics-vidhya/implementing-particle-swarm-optimization-pso-algorithm-in-python-9efc2eb179a6"
   ]
  },
  {
   "cell_type": "markdown",
   "metadata": {},
   "source": [
    "## Tentang PSO"
   ]
  },
  {
   "cell_type": "markdown",
   "metadata": {},
   "source": [
    "Ada banyak definisi AI. Menurut kamus Merrian-Webster, Kecerdasan Buatan adalah area luas ilmu komputer yang mensimulasikan perilaku cerdas di komputer. Berdasarkan hal tersebut, implementasi algoritma berbasis metaheuristik yang disebut Particle Swarm Optimization (awalnya diusulkan untuk mensimulasikan burung yang mencari makanan, pergerakan kawanan ikan, dll.) mampu mensimulasikan perilaku kawanan untuk mengoptimalkan masalah numerik secara iteratif.Ini dapat diklasifikasikan sebagai algoritma kecerdasan swarm seperti Algoritma Koloni Semut, Algoritma Koloni Lebah Buatan dan Pencarian Bakteri, misalnya.\n",
    "\n",
    "Diusulkan pada tahun 1995 oleh J. Kennedy dan R.Eberhart, artikel “Particle Swarm Optimization” menjadi sangat populer karena proses optimasinya yang berkelanjutan memungkinkan variasi ke banyak target dan banyak lagi. Terdiri dari pencarian konstan solusi terbaik, metode ini memindahkan partikel (dalam hal ini direpresentasikan sebagai posisi (x,y)) dengan kecepatan tertentu yang dihitung dalam setiap iterasi. Setiap gerakan partikel memiliki pengaruhnya sendiri terhadap posisi yang paling dikenal dan juga posisi yang paling dikenal dalam pencarian ruang angkasa. Hasil akhir yang diharapkan adalah partikel swarm konvergen menjadi solusi terbaik. Penting untuk diketahui bahwa PSO tidak menggunakan Gradient Descent, sehingga dapat digunakan untuk masalah non linier karena tidak memerlukan masalah yang harus didiferensiasikan."
   ]
  },
  {
   "cell_type": "markdown",
   "metadata": {},
   "source": [
    "## Algoritma"
   ]
  },
  {
   "cell_type": "markdown",
   "metadata": {},
   "source": [
    "![\"algoritma\"](https://miro.medium.com/max/1400/1*zLmYH2QiwttYcjUMhvKWcA.png)"
   ]
  },
  {
   "cell_type": "markdown",
   "metadata": {},
   "source": [
    "Pada awalnya, dalam perulangan 2 for, ini menginisialisasi posisi partikel dengan distribusi seragam acak dalam rentang yang diizinkan untuk semua dimensinya (Beberapa masalah memerlukan penanganan ke beberapa dimensi). Setelah itu, untuk setiap partikel, ia menghitung nilai fitnessnya dan dibandingkan dengan posisi terbaiknya sendiri (Nilai p_best adalah posisi terbaik dari partikel tertentu yang pernah ada) dan kemudian memilih posisi terbaik dari semua partikel di g_best.\n",
    "\n",
    "Mari kita lihat lebih dekat persamaan yang mendefinisikan kecepatan iterasi berikutnya dari dimensi partikel:\n",
    "- Vᵢ(k+1) adalah kecepatan iterasi berikutnya\n",
    "- W adalah parameter inersia. Parameter ini mempengaruhi propagasi gerakan yang diberikan oleh nilai kecepatan terakhir.\n",
    "- C₁ dan C adalah koefisien percepatan. Nilai C₁ memberikan pentingnya nilai terbaik pribadi dan C₂ adalah pentingnya nilai terbaik sosial.\n",
    "- Pᵢ adalah posisi individu terbaik dan Pg adalah posisi terbaik dari semua partikel. Dalam persamaan tersebut, diukur jarak masing-masing parameter tersebut terhadap posisi partikel yang sebenarnya.\n",
    "- rand₁ dan rand₂ adalah bilangan acak di mana 0 rand 1 dan mereka mengontrol pengaruh masing-masing nilai: Sosial dan individu seperti yang ditunjukkan di bawah ini."
   ]
  },
  {
   "cell_type": "markdown",
   "metadata": {},
   "source": [
    "![\"loop\"](https://miro.medium.com/max/700/1*Y1DFdUEBX3vVeuZVpM11fA.png)"
   ]
  },
  {
   "cell_type": "markdown",
   "metadata": {},
   "source": [
    "## Coding"
   ]
  },
  {
   "cell_type": "markdown",
   "metadata": {},
   "source": [
    "### Import"
   ]
  },
  {
   "cell_type": "code",
   "execution_count": 1,
   "metadata": {},
   "outputs": [],
   "source": [
    "import pyswarms as ps\n",
    "import numpy as np\n",
    "from pyswarms.utils.plotters import plot_cost_history, plot_contour, plot_surface\n",
    "import matplotlib.pyplot as plt\n",
    "import os\n",
    "import imageio\n",
    "import math"
   ]
  },
  {
   "cell_type": "markdown",
   "metadata": {},
   "source": [
    "### Fungsi Objective"
   ]
  },
  {
   "cell_type": "code",
   "execution_count": 2,
   "metadata": {},
   "outputs": [],
   "source": [
    "def f(_x):\n",
    "    \"Objective function\"\n",
    "    \n",
    "    x = _x[:, 0]\n",
    "    y = _x[:, 1]\n",
    "    \n",
    "    return (x-3.14)**2 + (y-2.72)**2 + np.sin(3*x+1.41) + np.sin(4*y-1.73)"
   ]
  },
  {
   "cell_type": "markdown",
   "metadata": {},
   "source": [
    "### Optimalization"
   ]
  },
  {
   "cell_type": "code",
   "execution_count": 3,
   "metadata": {
    "scrolled": true
   },
   "outputs": [
    {
     "name": "stderr",
     "output_type": "stream",
     "text": [
      "2021-10-27 17:56:04,212 - pyswarms.single.global_best - INFO - Optimize for 100 iters with {'c1': 0.1, 'c2': 0.1, 'w': 0.8}\n",
      "pyswarms.single.global_best: 100%|████████████████████████████████████████████████████████████|100/100, best_cost=-1.81\n",
      "2021-10-27 17:56:04,588 - pyswarms.single.global_best - INFO - Optimization finished | best cost: -1.8083520358405483, best pos: [3.18515166 3.12980363]\n"
     ]
    },
    {
     "data": {
      "image/png": "[encoded data removed]",
      "text/plain": [
       "<Figure size 720x576 with 1 Axes>"
      ]
     },
     "metadata": {
      "needs_background": "light"
     },
     "output_type": "display_data"
    }
   ],
   "source": [
    "options = {'c1':0.1, 'c2':0.1, 'w':0.8}\n",
    "optimizer = ps.single.GlobalBestPSO(n_particles=20, dimensions=2, options=options)\n",
    "best_cost, best_pos = optimizer.optimize(f, iters=100)\n",
    "# Plot the cost\n",
    "plot_cost_history(optimizer.cost_history)\n",
    "plt.show()"
   ]
  },
  {
   "cell_type": "code",
   "execution_count": 4,
   "metadata": {
    "scrolled": true
   },
   "outputs": [
    {
     "data": {
      "text/plain": [
       "array([3.18515166, 3.12980363])"
      ]
     },
     "execution_count": 4,
     "metadata": {},
     "output_type": "execute_result"
    }
   ],
   "source": [
    "best_pos"
   ]
  },
  {
   "cell_type": "markdown",
   "metadata": {},
   "source": [
    "Dengan ini, kita mendapatkan posisi terbaik adalah [3.18515916 3.12980206]"
   ]
  },
  {
   "cell_type": "code",
   "execution_count": 5,
   "metadata": {},
   "outputs": [],
   "source": [
    "minX = minY = maxX = maxY = 0\n",
    "for particles in optimizer.pos_history:\n",
    "    for particle in particles:\n",
    "        if particle[0] > maxX:\n",
    "            maxX = particle[0]\n",
    "        if particle[0] < minX:\n",
    "            minX = particle[0]\n",
    "            \n",
    "        if particle[1] > maxY:\n",
    "            maxY = particle[0]\n",
    "        if particle[1] < minY:\n",
    "            minY = particle[0]\n",
    "\n",
    "minX = math.floor(minX)\n",
    "maxX = math.ceil(maxX)\n",
    "\n",
    "minY = math.floor(minY)\n",
    "maxY = math.ceil(maxY)"
   ]
  },
  {
   "cell_type": "code",
   "execution_count": 6,
   "metadata": {},
   "outputs": [],
   "source": [
    "def getXY(data):\n",
    "    x = []\n",
    "    y = []\n",
    "    for i in data:\n",
    "        x.append(i[0])\n",
    "        y.append(i[1])\n",
    "    return x, y"
   ]
  },
  {
   "cell_type": "markdown",
   "metadata": {},
   "source": [
    "### Visualisasi"
   ]
  },
  {
   "cell_type": "code",
   "execution_count": 7,
   "metadata": {},
   "outputs": [],
   "source": [
    "folder_name = \"plots_other_version\"\n",
    "if not os.path.exists(folder_name):\n",
    "    os.makedirs(folder_name)\n",
    "    \n",
    "l = len(optimizer.pos_history)\n",
    "gif_name = \"PSO_other_version.gif\"\n",
    "\n",
    "filenames = []\n",
    "for i in range(l):\n",
    "    x, y = getXY(optimizer.pos_history[i])\n",
    "    plt.scatter(x, y, color=\"blue\", alpha=0.5)\n",
    "    plt.scatter(best_pos[0], best_pos[1], color=\"red\", alpha=0.5)\n",
    "    plt.xlim(minX, maxX)\n",
    "    plt.ylim(minY, maxY)\n",
    "    \n",
    "    # plt.show()\n",
    "    filename = f'{folder_name}/{i}.png'\n",
    "    filenames.append(filename)\n",
    "    \n",
    "    # save frame\n",
    "    plt.savefig(filename)\n",
    "    plt.close()    \n",
    "    \n",
    "# build gif\n",
    "with imageio.get_writer(gif_name, mode='I') as writer:\n",
    "    for filename in filenames:\n",
    "        image = imageio.imread(filename)\n",
    "        writer.append_data(image)\n",
    "        "
   ]
  },
  {
   "cell_type": "markdown",
   "metadata": {},
   "source": [
    "![SegmentLocal](PSO_other_version.gif \"segment\")"
   ]
  },
  {
   "cell_type": "code",
   "execution_count": null,
   "metadata": {},
   "outputs": [],
   "source": []
  }
 ],
 "metadata": {
  "kernelspec": {
   "display_name": "Python 3",
   "language": "python",
   "name": "python3"
  },
  "language_info": {
   "codemirror_mode": {
    "name": "ipython",
    "version": 3
   },
   "file_extension": ".py",
   "mimetype": "text/x-python",
   "name": "python",
   "nbconvert_exporter": "python",
   "pygments_lexer": "ipython3",
   "version": "3.8.6rc1"
  }
 },
 "nbformat": 4,
 "nbformat_minor": 4
}
